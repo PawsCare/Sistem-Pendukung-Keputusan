{
 "cells": [
  {
   "cell_type": "code",
   "execution_count": 1,
   "metadata": {},
   "outputs": [],
   "source": [
    "import pandas as pd\n",
    "import numpy as np\n",
    "\n",
    "# Load dataset\n",
    "file_path = 'DATA SET MAKAN GRATIS.xlsx'\n",
    "data = pd.ExcelFile(file_path)\n",
    "\n",
    "# Load data from the first sheet\n",
    "df = data.parse('Sheet1')\n"
   ]
  },
  {
   "cell_type": "code",
   "execution_count": 2,
   "metadata": {},
   "outputs": [],
   "source": [
    "# Bobot kriteria dan jenisnya (BENEFIT atau COST)\n",
    "weights = np.array([0.3814, 0.1970, 0.1491, 0.0957, 0.0862, 0.0531, 0.0375])\n",
    "criteria_types = np.array([\"BENEFIT\", \"BENEFIT\", \"BENEFIT\", \"BENEFIT\", \"BENEFIT\", \"COST\", \"COST\"])\n",
    "\n",
    "# Extract alternatives and criteria values\n",
    "alternatives = df['Unnamed: 0']\n",
    "criteria_values = df.iloc[:, 1:].values"
   ]
  },
  {
   "cell_type": "code",
   "execution_count": 3,
   "metadata": {},
   "outputs": [],
   "source": [
    "# Step 1: Normalize the decision matrix\n",
    "normalized_matrix = criteria_values / np.sqrt((criteria_values**2).sum(axis=0))\n",
    "\n"
   ]
  },
  {
   "cell_type": "code",
   "execution_count": 4,
   "metadata": {},
   "outputs": [],
   "source": [
    "# Step 2: Weighted normalized decision matrix\n",
    "weighted_matrix = normalized_matrix * weights\n",
    "weighted_matrix\n",
    "\n",
    "# Step 3: Determine the ideal (best) and negative ideal (worst) solutions\n",
    "ideal_best = np.where(criteria_types == \"BENEFIT\", weighted_matrix.max(axis=0), weighted_matrix.min(axis=0))\n",
    "ideal_worst = np.where(criteria_types == \"BENEFIT\", weighted_matrix.min(axis=0), weighted_matrix.max(axis=0))\n",
    "\n"
   ]
  },
  {
   "cell_type": "code",
   "execution_count": 5,
   "metadata": {},
   "outputs": [],
   "source": [
    "# Step 4: Calculate distances to ideal and negative ideal solutions\n",
    "distance_to_ideal = np.sqrt(((weighted_matrix - ideal_best)**2).sum(axis=1))\n",
    "distance_to_worst = np.sqrt(((weighted_matrix - ideal_worst)**2).sum(axis=1))\n",
    "\n",
    "\n"
   ]
  },
  {
   "cell_type": "code",
   "execution_count": 6,
   "metadata": {},
   "outputs": [
    {
     "data": {
      "text/plain": [
       "array([0.50575791, 0.38549628, 0.43925239, 0.70381514, 0.42421139,\n",
       "       0.48984172, 0.409332  , 0.52742032, 0.63879851, 0.39117146,\n",
       "       0.64789686, 0.34063053, 0.36536494, 0.27604034, 0.43821261,\n",
       "       0.54537373, 0.61624463, 0.53873194, 0.57128623, 0.32475891,\n",
       "       0.53699654, 0.43117027, 0.26882735, 0.3140652 ])"
      ]
     },
     "execution_count": 6,
     "metadata": {},
     "output_type": "execute_result"
    }
   ],
   "source": [
    "# Step 5: Calculate the relative closeness to the ideal solution\n",
    "relative_closeness = distance_to_worst / (distance_to_ideal + distance_to_worst)\n",
    "relative_closeness\n",
    "\n"
   ]
  },
  {
   "cell_type": "code",
   "execution_count": 7,
   "metadata": {},
   "outputs": [
    {
     "name": "stdout",
     "output_type": "stream",
     "text": [
      "   Alternative  Closeness  Rank\n",
      "3           A4   0.703815     1\n",
      "10         A11   0.647897     2\n",
      "8           A9   0.638799     3\n",
      "16         A17   0.616245     4\n",
      "18         A19   0.571286     5\n",
      "15         A16   0.545374     6\n",
      "17         A18   0.538732     7\n",
      "20         A21   0.536997     8\n",
      "7           A8   0.527420     9\n",
      "0           A1   0.505758    10\n",
      "5           A6   0.489842    11\n",
      "2           A3   0.439252    12\n",
      "14         A15   0.438213    13\n",
      "21         A22   0.431170    14\n",
      "4           A5   0.424211    15\n",
      "6           A7   0.409332    16\n",
      "9          A10   0.391171    17\n",
      "1           A2   0.385496    18\n",
      "12         A13   0.365365    19\n",
      "11         A12   0.340631    20\n",
      "19         A20   0.324759    21\n",
      "23         A24   0.314065    22\n",
      "13         A14   0.276040    23\n",
      "22         A23   0.268827    24\n"
     ]
    }
   ],
   "source": [
    "# Combine results into a DataFrame\n",
    "results = pd.DataFrame({\n",
    "    'Alternative': alternatives,\n",
    "    'Closeness': relative_closeness\n",
    "})\n",
    "results['Rank'] = results['Closeness'].rank(ascending=False).astype(int)\n",
    "\n",
    "# Sort by rank\n",
    "results_sorted = results.sort_values(by='Rank')\n",
    "\n",
    "# Display the results\n",
    "print(results_sorted)"
   ]
  }
 ],
 "metadata": {
  "kernelspec": {
   "display_name": "Python 3",
   "language": "python",
   "name": "python3"
  },
  "language_info": {
   "codemirror_mode": {
    "name": "ipython",
    "version": 3
   },
   "file_extension": ".py",
   "mimetype": "text/x-python",
   "name": "python",
   "nbconvert_exporter": "python",
   "pygments_lexer": "ipython3",
   "version": "3.12.5"
  }
 },
 "nbformat": 4,
 "nbformat_minor": 2
}
