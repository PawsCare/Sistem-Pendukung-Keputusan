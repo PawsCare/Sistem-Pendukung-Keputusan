{
 "cells": [
  {
   "cell_type": "code",
   "execution_count": 1,
   "metadata": {},
   "outputs": [
    {
     "name": "stdout",
     "output_type": "stream",
     "text": [
      "Total Kolom: [ 2.42619048  5.78333333  8.41666667 13.33333333 11.         18.5\n",
      " 24.        ]\n"
     ]
    }
   ],
   "source": [
    "import numpy as np\n",
    "\n",
    "# Matriks perbandingan berpasangan\n",
    "matriks_perbandingan = np.array([\n",
    "    [1, 3, 4, 5, 3, 6, 7],\n",
    "    [1/3, 1, 2, 3, 2, 4, 5],\n",
    "    [1/4, 1/2, 1, 3, 2, 3, 4],\n",
    "    [1/5, 1/3, 1/3, 1, 2, 2, 3],\n",
    "    [1/3, 1/2, 1/2, 1/2, 1, 2, 2],\n",
    "    [1/6, 1/4, 1/3, 1/2, 1/2, 1, 2],\n",
    "    [1/7, 1/5, 1/4, 1/3, 1/2, 1/2, 1]\n",
    "])\n",
    "\n",
    "# 1. Menjumlahkan setiap kolom dari matriks perbandingan\n",
    "kolom_total = matriks_perbandingan.sum(axis=0)\n",
    "print(f\"Total Kolom: {kolom_total}\")\n",
    "\n"
   ]
  },
  {
   "cell_type": "code",
   "execution_count": 2,
   "metadata": {},
   "outputs": [
    {
     "name": "stdout",
     "output_type": "stream",
     "text": [
      "\n",
      "Eigen Vector Bobot: [0.38140951 0.19704168 0.14913663 0.09565727 0.08615734 0.05312405\n",
      " 0.03747351]\n"
     ]
    }
   ],
   "source": [
    "# 2. Menentukan nilai Eigen Vector untuk masing-masing kriteria\n",
    "# Membagi setiap elemen dengan jumlah kolom\n",
    "eigen_vector = matriks_perbandingan / kolom_total\n",
    "# Menghitung rata-rata dari setiap baris (Eigen Vector)\n",
    "eigen_vector_bobot = eigen_vector.mean(axis=1)\n",
    "print(f\"\\nEigen Vector Bobot: {eigen_vector_bobot}\")\n",
    "\n"
   ]
  },
  {
   "cell_type": "code",
   "execution_count": 3,
   "metadata": {},
   "outputs": [
    {
     "name": "stdout",
     "output_type": "stream",
     "text": [
      "\n",
      "Lamda Max: 7.309577734739743\n"
     ]
    }
   ],
   "source": [
    "# 3. Menghitung nilai Lambda Max (λ_max)\n",
    "# Matriks perbandingan dikalikan dengan eigen vector bobot\n",
    "hasil_perkalian = np.dot(matriks_perbandingan, eigen_vector_bobot)\n",
    "# Membagi hasil perkalian dengan eigen vector bobot untuk mendapatkan lambda_max\n",
    "lambda_max = hasil_perkalian / eigen_vector_bobot\n",
    "lambda_max_mean = np.mean(lambda_max)\n",
    "print(f\"\\nLamda Max: {lambda_max_mean}\")\n",
    "\n"
   ]
  },
  {
   "cell_type": "code",
   "execution_count": 4,
   "metadata": {},
   "outputs": [
    {
     "name": "stdout",
     "output_type": "stream",
     "text": [
      "\n",
      "CI (Consistency Index): 0.05159628912329047\n"
     ]
    }
   ],
   "source": [
    "# 4. Menghitung CI (Consistency Index)\n",
    "n = matriks_perbandingan.shape[0]\n",
    "CI = (lambda_max_mean - n) / (n - 1)\n",
    "print(f\"\\nCI (Consistency Index): {CI}\")\n",
    "\n"
   ]
  },
  {
   "cell_type": "code",
   "execution_count": 5,
   "metadata": {},
   "outputs": [
    {
     "name": "stdout",
     "output_type": "stream",
     "text": [
      "\n",
      "CR (Consistency Ratio): 0.0390880978206746\n"
     ]
    }
   ],
   "source": [
    "# 5. Menghitung CR (Consistency Ratio)\n",
    "# Nilai RI untuk n = 7 adalah 1.32 berdasarkan tabel\n",
    "RI = 1.32\n",
    "CR = CI / RI\n",
    "print(f\"\\nCR (Consistency Ratio): {CR}\")\n",
    "\n"
   ]
  },
  {
   "cell_type": "code",
   "execution_count": 6,
   "metadata": {},
   "outputs": [
    {
     "name": "stdout",
     "output_type": "stream",
     "text": [
      "\n",
      "Bobot Kriteria menggunakan AHP:\n",
      "Kriteria C1: 0.3814\n",
      "Kriteria C2: 0.1970\n",
      "Kriteria C3: 0.1491\n",
      "Kriteria C4: 0.0957\n",
      "Kriteria C5: 0.0862\n",
      "Kriteria C6: 0.0531\n",
      "Kriteria C7: 0.0375\n"
     ]
    }
   ],
   "source": [
    "# Menampilkan bobot kriteria yang telah dihitung\n",
    "print(\"\\nBobot Kriteria menggunakan AHP:\")\n",
    "for i, bobot in enumerate(eigen_vector_bobot, start=1):\n",
    "    print(f\"Kriteria C{i}: {bobot:.4f}\")\n"
   ]
  }
 ],
 "metadata": {
  "kernelspec": {
   "display_name": "Python 3",
   "language": "python",
   "name": "python3"
  },
  "language_info": {
   "codemirror_mode": {
    "name": "ipython",
    "version": 3
   },
   "file_extension": ".py",
   "mimetype": "text/x-python",
   "name": "python",
   "nbconvert_exporter": "python",
   "pygments_lexer": "ipython3",
   "version": "3.12.5"
  }
 },
 "nbformat": 4,
 "nbformat_minor": 2
}
